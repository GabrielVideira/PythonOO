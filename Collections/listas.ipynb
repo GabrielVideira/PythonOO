{
 "cells": [
  {
   "cell_type": "code",
   "execution_count": 13,
   "metadata": {},
   "outputs": [
    {
     "data": {
      "text/plain": [
       "list"
      ]
     },
     "execution_count": 13,
     "metadata": {},
     "output_type": "execute_result"
    }
   ],
   "source": [
    "idades = [39,30,39,20,21]\n",
    "\n",
    "type(idades)"
   ]
  },
  {
   "cell_type": "code",
   "execution_count": null,
   "metadata": {},
   "outputs": [],
   "source": [
    "len(idades)"
   ]
  },
  {
   "cell_type": "code",
   "execution_count": null,
   "metadata": {},
   "outputs": [],
   "source": [
    "idades[0]"
   ]
  },
  {
   "cell_type": "code",
   "execution_count": 4,
   "metadata": {},
   "outputs": [
    {
     "data": {
      "text/plain": [
       "[39, 30, 39, 20, 21]"
      ]
     },
     "execution_count": 4,
     "metadata": {},
     "output_type": "execute_result"
    }
   ],
   "source": [
    "idades"
   ]
  },
  {
   "cell_type": "code",
   "execution_count": 5,
   "metadata": {},
   "outputs": [
    {
     "name": "stdout",
     "output_type": "stream",
     "text": [
      "30\n"
     ]
    }
   ],
   "source": [
    "print(idades[1])\n",
    "print(idades[2])\n",
    "print(idades[3])\n",
    "print(idades[4])"
   ]
  },
  {
   "cell_type": "code",
   "execution_count": 15,
   "metadata": {},
   "outputs": [],
   "source": [
    "idades.append(15)"
   ]
  },
  {
   "cell_type": "code",
   "execution_count": 11,
   "metadata": {},
   "outputs": [
    {
     "name": "stdout",
     "output_type": "stream",
     "text": [
      "39\n",
      "30\n",
      "39\n",
      "20\n",
      "21\n",
      "15\n"
     ]
    }
   ],
   "source": [
    "for idade in idades:\n",
    "    print (idade)"
   ]
  },
  {
   "cell_type": "code",
   "execution_count": 9,
   "metadata": {},
   "outputs": [
    {
     "ename": "ValueError",
     "evalue": "list.remove(x): x not in list",
     "output_type": "error",
     "traceback": [
      "\u001b[1;31m---------------------------------------------------------------------------\u001b[0m",
      "\u001b[1;31mValueError\u001b[0m                                Traceback (most recent call last)",
      "\u001b[1;32mc:\\Users\\gabri\\Desktop\\PythonOO\\Collections\\Introducao.ipynb Cell 8\u001b[0m line \u001b[0;36m1\n\u001b[1;32m----> <a href='vscode-notebook-cell:/c%3A/Users/gabri/Desktop/PythonOO/Collections/Introducao.ipynb#X13sZmlsZQ%3D%3D?line=0'>1</a>\u001b[0m idades\u001b[39m.\u001b[39;49mremove(\u001b[39m31\u001b[39;49m)\n",
      "\u001b[1;31mValueError\u001b[0m: list.remove(x): x not in list"
     ]
    }
   ],
   "source": [
    "idades.remove(31)"
   ]
  },
  {
   "cell_type": "code",
   "execution_count": 10,
   "metadata": {},
   "outputs": [],
   "source": [
    "idades.remove(15)"
   ]
  },
  {
   "cell_type": "code",
   "execution_count": 12,
   "metadata": {},
   "outputs": [],
   "source": [
    "idades.clear()"
   ]
  },
  {
   "cell_type": "code",
   "execution_count": 14,
   "metadata": {},
   "outputs": [
    {
     "data": {
      "text/plain": [
       "False"
      ]
     },
     "execution_count": 14,
     "metadata": {},
     "output_type": "execute_result"
    }
   ],
   "source": [
    "28 in idades"
   ]
  },
  {
   "cell_type": "code",
   "execution_count": 16,
   "metadata": {},
   "outputs": [
    {
     "data": {
      "text/plain": [
       "True"
      ]
     },
     "execution_count": 16,
     "metadata": {},
     "output_type": "execute_result"
    }
   ],
   "source": [
    "15 in idades"
   ]
  },
  {
   "cell_type": "code",
   "execution_count": 17,
   "metadata": {},
   "outputs": [],
   "source": [
    "if 15 in idades:\n",
    "    idades.remove(15)"
   ]
  },
  {
   "cell_type": "code",
   "execution_count": 18,
   "metadata": {},
   "outputs": [
    {
     "data": {
      "text/plain": [
       "[39, 30, 39, 20, 21]"
      ]
     },
     "execution_count": 18,
     "metadata": {},
     "output_type": "execute_result"
    }
   ],
   "source": [
    "idades"
   ]
  },
  {
   "cell_type": "code",
   "execution_count": 19,
   "metadata": {},
   "outputs": [],
   "source": [
    "if 28 in idades:\n",
    "    idades.remove(28)"
   ]
  },
  {
   "cell_type": "code",
   "execution_count": 20,
   "metadata": {},
   "outputs": [
    {
     "data": {
      "text/plain": [
       "[39, 30, 39, 20, 21]"
      ]
     },
     "execution_count": 20,
     "metadata": {},
     "output_type": "execute_result"
    }
   ],
   "source": [
    "idades"
   ]
  },
  {
   "cell_type": "code",
   "execution_count": 21,
   "metadata": {},
   "outputs": [
    {
     "data": {
      "text/plain": [
       "[20, 39, 30, 39, 20, 21]"
      ]
     },
     "execution_count": 21,
     "metadata": {},
     "output_type": "execute_result"
    }
   ],
   "source": [
    "idades.insert(0,20)\n",
    "idades"
   ]
  },
  {
   "cell_type": "code",
   "execution_count": 22,
   "metadata": {},
   "outputs": [
    {
     "data": {
      "text/plain": [
       "[20, 39, 31, 27, 19]"
      ]
     },
     "execution_count": 22,
     "metadata": {},
     "output_type": "execute_result"
    }
   ],
   "source": [
    "idades = [20,39,31]\n",
    "idades.extend([27,19])\n",
    "idades"
   ]
  },
  {
   "cell_type": "code",
   "execution_count": 23,
   "metadata": {},
   "outputs": [
    {
     "name": "stdout",
     "output_type": "stream",
     "text": [
      "21\n",
      "40\n",
      "32\n",
      "28\n",
      "20\n"
     ]
    }
   ],
   "source": [
    "for idade in idades:\n",
    "    print (idade+1)"
   ]
  },
  {
   "cell_type": "code",
   "execution_count": 27,
   "metadata": {},
   "outputs": [
    {
     "data": {
      "text/plain": [
       "[21, 40, 32, 28, 20]"
      ]
     },
     "execution_count": 27,
     "metadata": {},
     "output_type": "execute_result"
    }
   ],
   "source": [
    "idades_no_ano_q_vem = []\n",
    "for idade in idades:\n",
    "    idades_no_ano_q_vem.append(idade+1)\n",
    "idades_no_ano_q_vem"
   ]
  },
  {
   "cell_type": "code",
   "execution_count": 28,
   "metadata": {},
   "outputs": [
    {
     "data": {
      "text/plain": [
       "[21, 40, 32, 28, 20]"
      ]
     },
     "execution_count": 28,
     "metadata": {},
     "output_type": "execute_result"
    }
   ],
   "source": [
    "idades_no_ano_q_vem = [idade+1 for idade in idades]\n",
    "idades_no_ano_q_vem"
   ]
  },
  {
   "cell_type": "code",
   "execution_count": 35,
   "metadata": {},
   "outputs": [
    {
     "data": {
      "text/plain": [
       "19"
      ]
     },
     "execution_count": 35,
     "metadata": {},
     "output_type": "execute_result"
    }
   ],
   "source": [
    "[(idades) for idade in idades if idade > 21]\n",
    "idade"
   ]
  },
  {
   "cell_type": "code",
   "execution_count": 36,
   "metadata": {},
   "outputs": [
    {
     "data": {
      "text/plain": [
       "[40, 32, 28]"
      ]
     },
     "execution_count": 36,
     "metadata": {},
     "output_type": "execute_result"
    }
   ],
   "source": [
    "def proximo_ano(idade):\n",
    "    return idade + 1\n",
    "\n",
    "[proximo_ano(idade) for idade in idades if idade > 21]"
   ]
  },
  {
   "cell_type": "markdown",
   "metadata": {},
   "source": [
    "Lista é referencia a um único objeto na memória"
   ]
  },
  {
   "cell_type": "code",
   "execution_count": 37,
   "metadata": {},
   "outputs": [],
   "source": [
    "def faz_processamento_de_visualizacao(lista):\n",
    "    print(len(lista))\n",
    "    lista.append(13)"
   ]
  },
  {
   "cell_type": "code",
   "execution_count": 38,
   "metadata": {},
   "outputs": [
    {
     "name": "stdout",
     "output_type": "stream",
     "text": [
      "5\n"
     ]
    },
    {
     "data": {
      "text/plain": [
       "[16, 21, 29, 56, 43]"
      ]
     },
     "execution_count": 38,
     "metadata": {},
     "output_type": "execute_result"
    }
   ],
   "source": [
    "idades = [16,21,29,56,43]\n",
    "faz_processamento_de_visualizacao(idades)\n",
    "idades"
   ]
  },
  {
   "cell_type": "code",
   "execution_count": 39,
   "metadata": {},
   "outputs": [],
   "source": [
    "def faz_processamento_de_visualizacao(lista = []):\n",
    "    print(len(lista))\n",
    "    lista.append(13)"
   ]
  },
  {
   "cell_type": "code",
   "execution_count": 40,
   "metadata": {},
   "outputs": [
    {
     "name": "stdout",
     "output_type": "stream",
     "text": [
      "0\n"
     ]
    }
   ],
   "source": [
    "faz_processamento_de_visualizacao()\n"
   ]
  },
  {
   "cell_type": "code",
   "execution_count": 41,
   "metadata": {},
   "outputs": [
    {
     "name": "stdout",
     "output_type": "stream",
     "text": [
      "1\n"
     ]
    }
   ],
   "source": [
    "faz_processamento_de_visualizacao()\n"
   ]
  },
  {
   "cell_type": "code",
   "execution_count": 42,
   "metadata": {},
   "outputs": [
    {
     "name": "stdout",
     "output_type": "stream",
     "text": [
      "2\n"
     ]
    }
   ],
   "source": [
    "faz_processamento_de_visualizacao()\n"
   ]
  },
  {
   "cell_type": "code",
   "execution_count": 1,
   "metadata": {},
   "outputs": [],
   "source": [
    "def faz_processamento_de_visualizacao(lista = None):\n",
    "    if lista == None:\n",
    "        lista = list()\n",
    "    print(len(lista))\n",
    "    print(lista)\n",
    "    lista.append(13)"
   ]
  },
  {
   "cell_type": "code",
   "execution_count": 2,
   "metadata": {},
   "outputs": [
    {
     "name": "stdout",
     "output_type": "stream",
     "text": [
      "[>>Codigo 15 Saldo 0<<]\n",
      "[>>Codigo 47685 Saldo 1000<<]\n",
      "[<__main__.ContaCorrente object at 0x00000207EFA82D50>, <__main__.ContaCorrente object at 0x00000207EFA83510>]\n",
      "[>>Codigo 15 Saldo 0<<]\n",
      "[>>Codigo 47685 Saldo 1000<<]\n",
      "[>>Codigo 15 Saldo 0<<]\n",
      "[>>Codigo 15 Saldo 100<<]\n",
      "[>>Codigo 15 Saldo 100<<]\n",
      "[>>Codigo 15 Saldo 100<<]\n",
      "[>>Codigo 15 Saldo 100<<]\n",
      "[>>Codigo 15 Saldo 100<<]\n"
     ]
    }
   ],
   "source": [
    "# Objeto próprios\n",
    "class ContaCorrente:\n",
    "  \n",
    "  def __init__(self, codigo):\n",
    "    self.codigo = codigo\n",
    "    self.saldo = 0\n",
    "\n",
    "  def deposita(self, valor):\n",
    "    self.saldo += valor\n",
    "    \n",
    "  def __str__(self):\n",
    "    return \"[>>Codigo {} Saldo {}<<]\".format(self.codigo, self.saldo)\n",
    "conta_do_gui = ContaCorrente(15)\n",
    "print(conta_do_gui)\n",
    "\n",
    "conta_da_dani = ContaCorrente(47685)\n",
    "conta_da_dani.deposita(1000)\n",
    "print(conta_da_dani)\n",
    "\n",
    "contas = [conta_do_gui, conta_da_dani]\n",
    "print(contas)\n",
    "contas = [conta_do_gui, conta_da_dani]\n",
    "for conta in contas:\n",
    "  print(conta)\n",
    "contas = [conta_do_gui, conta_da_dani, conta_do_gui]\n",
    "\n",
    "print(contas[0])\n",
    "conta_do_gui.deposita(100)\n",
    "\n",
    "print(contas[0])\n",
    "print(conta_do_gui)\n",
    "\n",
    "contas = [conta_do_gui, conta_da_dani, conta_do_gui]\n",
    "print(conta_do_gui)\n",
    "print(contas[2])\n",
    "print(conta_do_gui)\n"
   ]
  },
  {
   "cell_type": "code",
   "execution_count": 2,
   "metadata": {},
   "outputs": [],
   "source": [
    "class ContaSalario: \n",
    "\n",
    "    def __init__(self, codigo):\n",
    "        self._codigo = codigo\n",
    "        self._saldo = 0\n",
    "\n",
    "    def deposita(self, valor):\n",
    "        self._saldo += valor\n",
    "\n",
    "    def __str__(self):\n",
    "        return \"[>>Codigo {} Saldo {}<<]\".format(self._codigo, self._saldo)"
   ]
  },
  {
   "cell_type": "code",
   "execution_count": 8,
   "metadata": {},
   "outputs": [
    {
     "name": "stdout",
     "output_type": "stream",
     "text": [
      "[>>Codigo 37 Saldo 0<<]\n"
     ]
    }
   ],
   "source": [
    "conta1 = ContaSalario(37)\n",
    "print(conta1)"
   ]
  },
  {
   "cell_type": "code",
   "execution_count": 9,
   "metadata": {},
   "outputs": [
    {
     "name": "stdout",
     "output_type": "stream",
     "text": [
      "[>>Codigo 37 Saldo 0<<]\n"
     ]
    }
   ],
   "source": [
    "conta2 = ContaSalario(37)\n",
    "print(conta2)"
   ]
  },
  {
   "cell_type": "code",
   "execution_count": 6,
   "metadata": {},
   "outputs": [
    {
     "data": {
      "text/plain": [
       "False"
      ]
     },
     "execution_count": 6,
     "metadata": {},
     "output_type": "execute_result"
    }
   ],
   "source": [
    "conta1 == conta2"
   ]
  },
  {
   "cell_type": "code",
   "execution_count": 16,
   "metadata": {},
   "outputs": [],
   "source": [
    "class Conta:\n",
    "\n",
    "  def __init__(self, codigo):\n",
    "    self._codigo = codigo\n",
    "    self._saldo = 0\n",
    "\n",
    "  def deposita(self, valor):\n",
    "    self._saldo += valor\n",
    "\n",
    "  def __str__(self):\n",
    "    return \"[>>Codigo {} Saldo {}<<]\".format(self._codigo, self._saldo)"
   ]
  },
  {
   "cell_type": "code",
   "execution_count": 15,
   "metadata": {},
   "outputs": [],
   "source": [
    "class ContaSalario: \n",
    "\n",
    "    def __init__(self, codigo):\n",
    "        self._codigo = codigo\n",
    "        self._saldo = 0\n",
    "\n",
    "    def __eq__(self, outro):\n",
    "       return self._codigo == outro._codigo\n",
    "\n",
    "    def deposita(self, valor):\n",
    "        self._saldo += valor\n",
    "\n",
    "    def __str__(self):\n",
    "        return \"[>>Codigo {} Saldo {}<<]\".format(self._codigo, self._saldo)"
   ]
  },
  {
   "cell_type": "code",
   "execution_count": 18,
   "metadata": {},
   "outputs": [],
   "source": [
    "class ContaCorrente(Conta):\n",
    "\n",
    "  def passa_o_mes(self):\n",
    "    self._saldo -= 2\n",
    "    \n",
    "class ContaPoupanca(Conta):\n",
    "\n",
    "  def passa_o_mes(self):\n",
    "    self._saldo *= 1.01\n",
    "    self._saldo -= 3"
   ]
  },
  {
   "cell_type": "code",
   "execution_count": 10,
   "metadata": {},
   "outputs": [],
   "source": [
    "conta1 = ContaSalario(37)"
   ]
  },
  {
   "cell_type": "code",
   "execution_count": 11,
   "metadata": {},
   "outputs": [],
   "source": [
    "conta2 = ContaSalario(37)"
   ]
  },
  {
   "cell_type": "code",
   "execution_count": 12,
   "metadata": {},
   "outputs": [
    {
     "data": {
      "text/plain": [
       "True"
      ]
     },
     "execution_count": 12,
     "metadata": {},
     "output_type": "execute_result"
    }
   ],
   "source": [
    "conta1 == conta2"
   ]
  },
  {
   "cell_type": "code",
   "execution_count": 19,
   "metadata": {},
   "outputs": [
    {
     "data": {
      "text/plain": [
       "True"
      ]
     },
     "execution_count": 19,
     "metadata": {},
     "output_type": "execute_result"
    }
   ],
   "source": [
    "isinstance(ContaCorrente(34), Conta)"
   ]
  },
  {
   "cell_type": "code",
   "execution_count": 20,
   "metadata": {},
   "outputs": [
    {
     "name": "stdout",
     "output_type": "stream",
     "text": [
      "15\n",
      "87\n",
      "65\n",
      "56\n",
      "32\n",
      "49\n",
      "37\n"
     ]
    }
   ],
   "source": [
    "idades = [15, 87, 65, 56, 32, 49, 37]\n",
    "\n",
    "for idade in idades:\n",
    "  print(idade)"
   ]
  },
  {
   "cell_type": "code",
   "execution_count": 21,
   "metadata": {},
   "outputs": [
    {
     "name": "stdout",
     "output_type": "stream",
     "text": [
      "0 15\n",
      "1 87\n",
      "2 65\n",
      "3 56\n",
      "4 32\n",
      "5 49\n",
      "6 37\n"
     ]
    }
   ],
   "source": [
    "idades = [15, 87, 65, 56, 32, 49, 37]\n",
    "\n",
    "for i in range (len(idades)):\n",
    "    print(i, idades[i])"
   ]
  },
  {
   "cell_type": "code",
   "execution_count": 22,
   "metadata": {},
   "outputs": [
    {
     "data": {
      "text/plain": [
       "<enumerate at 0x14035a4f9c0>"
      ]
     },
     "execution_count": 22,
     "metadata": {},
     "output_type": "execute_result"
    }
   ],
   "source": [
    "enumerate(idades)\n"
   ]
  },
  {
   "cell_type": "code",
   "execution_count": 23,
   "metadata": {},
   "outputs": [
    {
     "data": {
      "text/plain": [
       "[0, 1, 2, 3, 4, 5, 6]"
      ]
     },
     "execution_count": 23,
     "metadata": {},
     "output_type": "execute_result"
    }
   ],
   "source": [
    "list(range(len(idades)))\n"
   ]
  },
  {
   "cell_type": "code",
   "execution_count": 25,
   "metadata": {},
   "outputs": [
    {
     "name": "stdout",
     "output_type": "stream",
     "text": [
      "(0, 15)\n",
      "(1, 87)\n",
      "(2, 65)\n",
      "(3, 56)\n",
      "(4, 32)\n",
      "(5, 49)\n",
      "(6, 37)\n"
     ]
    }
   ],
   "source": [
    "for valor in enumerate(idades):\n",
    "    print(valor)"
   ]
  },
  {
   "cell_type": "code",
   "execution_count": null,
   "metadata": {},
   "outputs": [],
   "source": []
  }
 ],
 "metadata": {
  "kernelspec": {
   "display_name": "Python 3",
   "language": "python",
   "name": "python3"
  },
  "language_info": {
   "codemirror_mode": {
    "name": "ipython",
    "version": 3
   },
   "file_extension": ".py",
   "mimetype": "text/x-python",
   "name": "python",
   "nbconvert_exporter": "python",
   "pygments_lexer": "ipython3",
   "version": "3.11.4"
  },
  "orig_nbformat": 4
 },
 "nbformat": 4,
 "nbformat_minor": 2
}
