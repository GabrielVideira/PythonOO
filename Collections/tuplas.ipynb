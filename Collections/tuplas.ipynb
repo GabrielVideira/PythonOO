{
 "cells": [
  {
   "cell_type": "code",
   "execution_count": null,
   "metadata": {},
   "outputs": [],
   "source": [
    "def deposita_para_todas(contas):\n",
    "  for conta in contas:\n",
    "    conta.deposita(100)\n",
    "\n",
    "contas = [conta_do_gui, conta_da_dani]\n",
    "print(contas[0], contas[1])\n",
    "deposita_para_todas(contas)\n",
    "print(contas[0], contas[1])"
   ]
  }
 ],
 "metadata": {
  "kernelspec": {
   "display_name": "Python 3",
   "language": "python",
   "name": "python3"
  },
  "language_info": {
   "codemirror_mode": {
    "name": "ipython",
    "version": 3
   },
   "file_extension": ".py",
   "mimetype": "text/x-python",
   "name": "python",
   "nbconvert_exporter": "python",
   "pygments_lexer": "ipython3",
   "version": "3.11.4"
  },
  "orig_nbformat": 4
 },
 "nbformat": 4,
 "nbformat_minor": 2
}
