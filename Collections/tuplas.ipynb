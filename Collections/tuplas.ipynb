{
 "cells": [
  {
   "cell_type": "code",
   "execution_count": 22,
   "metadata": {},
   "outputs": [
    {
     "name": "stdout",
     "output_type": "stream",
     "text": [
      "[>>Codigo 15 Saldo 200<<] [>>Codigo 47685 Saldo 1000<<]\n",
      "[>>Codigo 15 Saldo 300<<] [>>Codigo 47685 Saldo 1100<<]\n"
     ]
    }
   ],
   "source": [
    "def deposita_para_todas(contas):\n",
    "  for conta in contas:\n",
    "    conta.deposita(100)\n",
    "\n",
    "contas = [conta_do_gui, conta_da_dani]\n",
    "print(contas[0], contas[1])\n",
    "deposita_para_todas(contas)\n",
    "print(contas[0], contas[1])"
   ]
  },
  {
   "cell_type": "code",
   "execution_count": 39,
   "metadata": {},
   "outputs": [
    {
     "name": "stdout",
     "output_type": "stream",
     "text": [
      "[>>Codigo 15 Saldo 0<<]\n",
      "[>>Codigo 47685 Saldo 1000<<]\n",
      "[<__main__.ContaCorrente object at 0x000001865FC65710>, <__main__.ContaCorrente object at 0x0000018660116D10>]\n",
      "[>>Codigo 15 Saldo 0<<]\n",
      "[>>Codigo 47685 Saldo 1000<<]\n",
      "[>>Codigo 15 Saldo 0<<]\n",
      "[>>Codigo 15 Saldo 100<<]\n",
      "[>>Codigo 15 Saldo 100<<]\n",
      "[>>Codigo 15 Saldo 100<<]\n",
      "[>>Codigo 15 Saldo 100<<]\n",
      "[>>Codigo 15 Saldo 100<<]\n"
     ]
    }
   ],
   "source": [
    "# Objeto próprios\n",
    "class ContaCorrente:\n",
    "  \n",
    "  def __init__(self, codigo):\n",
    "    self.codigo = codigo\n",
    "    self.saldo = 0\n",
    "\n",
    "  def deposita(self, valor):\n",
    "    self.saldo += valor\n",
    "    \n",
    "  def __str__(self):\n",
    "    return \"[>>Codigo {} Saldo {}<<]\".format(self.codigo, self.saldo)\n",
    "conta_do_gui = ContaCorrente(15)\n",
    "print(conta_do_gui)\n",
    "\n",
    "conta_da_dani = ContaCorrente(47685)\n",
    "conta_da_dani.deposita(1000)\n",
    "print(conta_da_dani)\n",
    "\n",
    "contas = [conta_do_gui, conta_da_dani]\n",
    "print(contas)\n",
    "contas = [conta_do_gui, conta_da_dani]\n",
    "for conta in contas:\n",
    "  print(conta)\n",
    "contas = [conta_do_gui, conta_da_dani, conta_do_gui]\n",
    "\n",
    "print(contas[0])\n",
    "conta_do_gui.deposita(100)\n",
    "\n",
    "print(contas[0])\n",
    "print(conta_do_gui)\n",
    "\n",
    "contas = [conta_do_gui, conta_da_dani, conta_do_gui]\n",
    "print(conta_do_gui)\n",
    "print(contas[2])\n",
    "print(conta_do_gui)\n"
   ]
  },
  {
   "cell_type": "code",
   "execution_count": 24,
   "metadata": {},
   "outputs": [
    {
     "name": "stdout",
     "output_type": "stream",
     "text": [
      "76 76 [>>Codigo 15 Saldo 300<<]\n"
     ]
    }
   ],
   "source": [
    "contas.insert(0,76)\n",
    "print(contas[0], contas[1], contas[2])"
   ]
  },
  {
   "cell_type": "code",
   "execution_count": 25,
   "metadata": {},
   "outputs": [
    {
     "ename": "AttributeError",
     "evalue": "'int' object has no attribute 'deposita'",
     "output_type": "error",
     "traceback": [
      "\u001b[1;31m---------------------------------------------------------------------------\u001b[0m",
      "\u001b[1;31mAttributeError\u001b[0m                            Traceback (most recent call last)",
      "\u001b[1;32mc:\\Users\\gabri\\Desktop\\PythonOO\\Collections\\tuplas.ipynb Cell 3\u001b[0m line \u001b[0;36m1\n\u001b[1;32m----> <a href='vscode-notebook-cell:/c%3A/Users/gabri/Desktop/PythonOO/Collections/tuplas.ipynb#X21sZmlsZQ%3D%3D?line=0'>1</a>\u001b[0m deposita_para_todas(contas)\n\u001b[0;32m      <a href='vscode-notebook-cell:/c%3A/Users/gabri/Desktop/PythonOO/Collections/tuplas.ipynb#X21sZmlsZQ%3D%3D?line=1'>2</a>\u001b[0m \u001b[39mprint\u001b[39m(contas[\u001b[39m0\u001b[39m], contas[\u001b[39m1\u001b[39m], contas[\u001b[39m2\u001b[39m]) \n",
      "\u001b[1;32mc:\\Users\\gabri\\Desktop\\PythonOO\\Collections\\tuplas.ipynb Cell 3\u001b[0m line \u001b[0;36m3\n\u001b[0;32m      <a href='vscode-notebook-cell:/c%3A/Users/gabri/Desktop/PythonOO/Collections/tuplas.ipynb#X21sZmlsZQ%3D%3D?line=0'>1</a>\u001b[0m \u001b[39mdef\u001b[39;00m \u001b[39mdeposita_para_todas\u001b[39m(contas):\n\u001b[0;32m      <a href='vscode-notebook-cell:/c%3A/Users/gabri/Desktop/PythonOO/Collections/tuplas.ipynb#X21sZmlsZQ%3D%3D?line=1'>2</a>\u001b[0m   \u001b[39mfor\u001b[39;00m conta \u001b[39min\u001b[39;00m contas:\n\u001b[1;32m----> <a href='vscode-notebook-cell:/c%3A/Users/gabri/Desktop/PythonOO/Collections/tuplas.ipynb#X21sZmlsZQ%3D%3D?line=2'>3</a>\u001b[0m     conta\u001b[39m.\u001b[39;49mdeposita(\u001b[39m100\u001b[39m)\n",
      "\u001b[1;31mAttributeError\u001b[0m: 'int' object has no attribute 'deposita'"
     ]
    }
   ],
   "source": [
    "deposita_para_todas(contas)\n",
    "print(contas[0], contas[1], contas[2]) \n"
   ]
  },
  {
   "cell_type": "code",
   "execution_count": 27,
   "metadata": {},
   "outputs": [],
   "source": [
    "guilherme = ('Guilherme', 37, 1981) \n",
    "daniela = ('Daniela', 31, 1987)\n"
   ]
  },
  {
   "cell_type": "code",
   "execution_count": 28,
   "metadata": {},
   "outputs": [
    {
     "data": {
      "text/plain": [
       "1000"
      ]
     },
     "execution_count": 28,
     "metadata": {},
     "output_type": "execute_result"
    }
   ],
   "source": [
    "conta_do_gui = (15, 1000)\n",
    "\n",
    "conta_do_gui[1] "
   ]
  },
  {
   "cell_type": "code",
   "execution_count": 29,
   "metadata": {},
   "outputs": [],
   "source": [
    "def deposita(conta):\n",
    "    novo_saldo = conta[1]+100\n",
    "    codigo = conta[0]\n",
    "    return (codigo,novo_saldo)\n"
   ]
  },
  {
   "cell_type": "code",
   "execution_count": 30,
   "metadata": {},
   "outputs": [
    {
     "data": {
      "text/plain": [
       "(15, 1100)"
      ]
     },
     "execution_count": 30,
     "metadata": {},
     "output_type": "execute_result"
    }
   ],
   "source": [
    "deposita(conta_do_gui)"
   ]
  },
  {
   "cell_type": "code",
   "execution_count": 31,
   "metadata": {},
   "outputs": [
    {
     "data": {
      "text/plain": [
       "(15, 1000)"
      ]
     },
     "execution_count": 31,
     "metadata": {},
     "output_type": "execute_result"
    }
   ],
   "source": [
    "conta_do_gui"
   ]
  },
  {
   "cell_type": "code",
   "execution_count": 32,
   "metadata": {},
   "outputs": [],
   "source": [
    "conta_do_gui = deposita(conta_do_gui)"
   ]
  },
  {
   "cell_type": "code",
   "execution_count": 34,
   "metadata": {},
   "outputs": [
    {
     "data": {
      "text/plain": [
       "(15, 1100)"
      ]
     },
     "execution_count": 34,
     "metadata": {},
     "output_type": "execute_result"
    }
   ],
   "source": [
    "conta_do_gui"
   ]
  },
  {
   "cell_type": "code",
   "execution_count": 35,
   "metadata": {},
   "outputs": [
    {
     "data": {
      "text/plain": [
       "[('Guilherme', 37, 1981), ('Daniela', 31, 1987)]"
      ]
     },
     "execution_count": 35,
     "metadata": {},
     "output_type": "execute_result"
    }
   ],
   "source": [
    "usuarios = [guilherme, daniela]\n",
    "usuarios"
   ]
  },
  {
   "cell_type": "code",
   "execution_count": 36,
   "metadata": {},
   "outputs": [],
   "source": [
    "usuarios.append(('Paulo', 39, 1979))\n"
   ]
  },
  {
   "cell_type": "code",
   "execution_count": 37,
   "metadata": {},
   "outputs": [
    {
     "data": {
      "text/plain": [
       "[('Guilherme', 37, 1981), ('Daniela', 31, 1987), ('Paulo', 39, 1979)]"
      ]
     },
     "execution_count": 37,
     "metadata": {},
     "output_type": "execute_result"
    }
   ],
   "source": [
    "usuarios"
   ]
  },
  {
   "cell_type": "code",
   "execution_count": 42,
   "metadata": {},
   "outputs": [],
   "source": [
    "conta_do_gui = ContaCorrente(15)\n",
    "conta_do_gui.deposita(500)\n",
    "conta_da_dani = ContaCorrente(234876)\n",
    "conta_da_dani.deposita(1000)\n",
    "\n",
    "contas = (conta_do_gui, conta_da_dani)"
   ]
  },
  {
   "cell_type": "code",
   "execution_count": 44,
   "metadata": {},
   "outputs": [
    {
     "name": "stdout",
     "output_type": "stream",
     "text": [
      "[>>Codigo 15 Saldo 500<<]\n",
      "[>>Codigo 234876 Saldo 1000<<]\n"
     ]
    }
   ],
   "source": [
    "for conta in contas:\n",
    "    print(conta)"
   ]
  },
  {
   "cell_type": "code",
   "execution_count": 45,
   "metadata": {},
   "outputs": [],
   "source": [
    "contas[0].deposita(300)"
   ]
  },
  {
   "cell_type": "code",
   "execution_count": 46,
   "metadata": {},
   "outputs": [
    {
     "data": {
      "text/plain": [
       "(<__main__.ContaCorrente at 0x1866011ab10>,\n",
       " <__main__.ContaCorrente at 0x1865fc03c50>)"
      ]
     },
     "execution_count": 46,
     "metadata": {},
     "output_type": "execute_result"
    }
   ],
   "source": [
    "contas"
   ]
  },
  {
   "cell_type": "code",
   "execution_count": 47,
   "metadata": {},
   "outputs": [
    {
     "name": "stdout",
     "output_type": "stream",
     "text": [
      "[>>Codigo 15 Saldo 800<<]\n",
      "[>>Codigo 234876 Saldo 1000<<]\n"
     ]
    }
   ],
   "source": [
    "for conta in contas:\n",
    "    print(conta)"
   ]
  },
  {
   "cell_type": "code",
   "execution_count": null,
   "metadata": {},
   "outputs": [],
   "source": []
  },
  {
   "cell_type": "markdown",
   "metadata": {},
   "source": [
    ".\n"
   ]
  }
 ],
 "metadata": {
  "kernelspec": {
   "display_name": "Python 3",
   "language": "python",
   "name": "python3"
  },
  "language_info": {
   "codemirror_mode": {
    "name": "ipython",
    "version": 3
   },
   "file_extension": ".py",
   "mimetype": "text/x-python",
   "name": "python",
   "nbconvert_exporter": "python",
   "pygments_lexer": "ipython3",
   "version": "3.11.4"
  },
  "orig_nbformat": 4
 },
 "nbformat": 4,
 "nbformat_minor": 2
}
